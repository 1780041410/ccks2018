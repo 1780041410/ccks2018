{
 "cells": [
  {
   "cell_type": "code",
   "execution_count": 1,
   "metadata": {},
   "outputs": [],
   "source": [
    "import os\n",
    "import re\n",
    "import traceback"
   ]
  },
  {
   "cell_type": "code",
   "execution_count": 2,
   "metadata": {},
   "outputs": [],
   "source": [
    "import pickle\n",
    "import time\n",
    "import numpy as np\n",
    "import pymysql"
   ]
  },
  {
   "cell_type": "code",
   "execution_count": 5,
   "metadata": {},
   "outputs": [],
   "source": [
    "from unitils import get_ans,ans_clean,pre_clean,f1"
   ]
  },
  {
   "cell_type": "code",
   "execution_count": 6,
   "metadata": {},
   "outputs": [],
   "source": [
    "from unitils import match_type_cur,get_entry,from_value,get_type"
   ]
  },
  {
   "cell_type": "code",
   "execution_count": 7,
   "metadata": {},
   "outputs": [],
   "source": [
    "SYNONYM_MAP = {\n",
    "    '丈夫': '丈夫配偶',\n",
    "    '老公': '丈夫配偶',\n",
    "    '妻子': '妻子配偶',\n",
    "    '夫人': '夫人妻子配偶',\n",
    "    '媳妇': '妻子配偶',\n",
    "    '老家': '老家籍贯',\n",
    "    '故乡': '故乡籍贯',\n",
    "    '家乡': '家乡籍贯', \n",
    "    '英文':'外文英文',\n",
    "    '西班牙语':'外文西班牙语',\n",
    "    '贡献' : '贡献主要成就',\n",
    "    '功绩' : '功绩主要成就',\n",
    "    '丰功伟绩' : '丰功伟绩主要成就',\n",
    "    '来源' : '来源出处',\n",
    "    '在金庸小说《天龙八部》中':''\n",
    "}"
   ]
  },
  {
   "cell_type": "code",
   "execution_count": 8,
   "metadata": {},
   "outputs": [],
   "source": [
    "SAMPLE_LENGTH = 20"
   ]
  },
  {
   "cell_type": "markdown",
   "metadata": {},
   "source": [
    "# 融合答案"
   ]
  },
  {
   "cell_type": "markdown",
   "metadata": {},
   "source": [
    "## 可用字符确定的类型"
   ]
  },
  {
   "cell_type": "code",
   "execution_count": 9,
   "metadata": {},
   "outputs": [],
   "source": [
    "type_hint = {}\n",
    "type_dict = {}"
   ]
  },
  {
   "cell_type": "code",
   "execution_count": 10,
   "metadata": {},
   "outputs": [],
   "source": [
    "type_dict[\"国家\"] = \"哪些地方 哪国 在哪里 哪个国家 什么地方 帝国 时代 朝代\"\n",
    "type_hint[\"国家\"] = \"<地点><国家><二战参战国家><西半球><北美><北半球><历史机构><外国历史>\""
   ]
  },
  {
   "cell_type": "code",
   "execution_count": 11,
   "metadata": {},
   "outputs": [],
   "source": [
    "type_dict[\"地址\"] = \"哪个地方 景区 分布区域 哪里 城市\"\n",
    "type_hint[\"地址\"] = \"<旅游><行政区划><自然地理><旅游><自然><景观景点><国家><历史><地点><外国历史>\""
   ]
  },
  {
   "cell_type": "code",
   "execution_count": 12,
   "metadata": {},
   "outputs": [],
   "source": [
    "#type_dict[\"朝代\"] = \"什么时候 什么朝代 哪个时代\""
   ]
  },
  {
   "cell_type": "code",
   "execution_count": 13,
   "metadata": {},
   "outputs": [],
   "source": [
    "type_dict[\"人物\"] = \"足球 花滑运动员 人物 是谁 经济学家 女歌手 科学家 哲学家 作家 物理学家 模特 谁 演员 企业家 天文学家 政治家 外交家 歌手 哪位 女性\"\n",
    "type_hint[\"人物\"] = \"<经济人物><人物><话题人物><文学形象>\\\n",
    "    <演员><娱乐人物><歌手><导演><行业人物><经济人物><互联网人物><80年代演员><香港演员><人物><政治人物><元首>\\\n",
    "    <虚拟人物><动漫形象><行业人物><人物><文学>\""
   ]
  },
  {
   "cell_type": "code",
   "execution_count": 14,
   "metadata": {},
   "outputs": [],
   "source": [
    "type_dict[\"作品\"] = \"作品 电视剧 电影 书籍 专辑 著作 代表作 出自哪里 哪几部电视剧\"\n",
    "type_hint[\"作品\"] = \"<书籍><出版物><电视剧><中国文学><诗词><文学><音乐作品><音乐><单曲>\""
   ]
  },
  {
   "cell_type": "code",
   "execution_count": 15,
   "metadata": {},
   "outputs": [],
   "source": [
    "type_dict[\"大学\"] = \"毕业 哪所院校 高校\"\n",
    "type_hint[\"大学\"] = \"<大学><中国大学><学校><外国大学>\""
   ]
  },
  {
   "cell_type": "code",
   "execution_count": 16,
   "metadata": {},
   "outputs": [],
   "source": [
    "def find_ans_type(seq):\n",
    "    tag = {}   \n",
    "    for key in type_dict:\n",
    "        for line in type_dict[key].split(\" \"):\n",
    "            if line in seq:\n",
    "                tag[line] = (type_hint[key],seq.rindex(line))\n",
    "                break\n",
    "    out = list(tag.items())\n",
    "    out.sort(key = lambda x:x[1][1])\n",
    "    if out:\n",
    "        return out[-1][1][0]\n",
    "    else:\n",
    "        return \"\""
   ]
  },
  {
   "cell_type": "code",
   "execution_count": 17,
   "metadata": {},
   "outputs": [],
   "source": [
    "def att_type(ans_seq,tag):\n",
    "    words = ans_seq.split(\"\\t\")\n",
    "    #print(words)\n",
    "    for word in words:\n",
    "        word = word.replace(\"'\",\"\\\\'\")\n",
    "        if not word:\n",
    "            continue\n",
    "        try:\n",
    "            sss = get_type(word,match_type_cur)\n",
    "        except pymysql.ProgrammingError:\n",
    "            print(word)\n",
    "            continue\n",
    "        for row in sss:\n",
    "            if row[3].strip(\" .\") in tag:\n",
    "                return 1\n",
    "    return 0"
   ]
  },
  {
   "cell_type": "markdown",
   "metadata": {},
   "source": [
    "## 需要正则确定的类型"
   ]
  },
  {
   "cell_type": "markdown",
   "metadata": {},
   "source": [
    "### 网址"
   ]
  },
  {
   "cell_type": "code",
   "execution_count": 18,
   "metadata": {},
   "outputs": [],
   "source": [
    "site_pattern = re.compile(\"(\\.com|\\.net|\\.cn|\\.org|\\.gov|\\.edu)\")"
   ]
  },
  {
   "cell_type": "code",
   "execution_count": 19,
   "metadata": {},
   "outputs": [],
   "source": [
    "site_hint = \"网址 官网 官方网站\""
   ]
  },
  {
   "cell_type": "code",
   "execution_count": 20,
   "metadata": {},
   "outputs": [],
   "source": [
    "def is_site(seq):\n",
    "    if site_pattern.findall(seq):\n",
    "        return 1\n",
    "    return 0"
   ]
  },
  {
   "cell_type": "markdown",
   "metadata": {},
   "source": [
    "### 长度"
   ]
  },
  {
   "cell_type": "code",
   "execution_count": 21,
   "metadata": {},
   "outputs": [],
   "source": [
    "len_hint = \"有多长 海拔 有多高\""
   ]
  },
  {
   "cell_type": "code",
   "execution_count": 22,
   "metadata": {},
   "outputs": [],
   "source": [
    "len_pattern = re.compile(\"[0-9一二三四五六七八九十百十千万亿\\.米kmKMcm]+\")"
   ]
  },
  {
   "cell_type": "markdown",
   "metadata": {},
   "source": [
    "### 数量"
   ]
  },
  {
   "cell_type": "code",
   "execution_count": 23,
   "metadata": {},
   "outputs": [],
   "source": [
    "num_hint = \"总数 有几个 是多少 有多少 价格是多少\""
   ]
  },
  {
   "cell_type": "code",
   "execution_count": 24,
   "metadata": {},
   "outputs": [],
   "source": [
    "num_pattern = re.compile(\"[0-9一二三四五六七八九十百十千万亿]+\")"
   ]
  },
  {
   "cell_type": "markdown",
   "metadata": {},
   "source": [
    "### 时间"
   ]
  },
  {
   "cell_type": "code",
   "execution_count": 25,
   "metadata": {},
   "outputs": [],
   "source": [
    "time_hint = \"什么时候 哪一年 哪一天 何时\" \n",
    "#1890-07-29 1953-06"
   ]
  },
  {
   "cell_type": "code",
   "execution_count": 26,
   "metadata": {},
   "outputs": [],
   "source": [
    "#   ->哪个城市 \n",
    "time_pattern = re.compile(\"(\\d{2,4}年\\d{1,2}月\\d{1,2}日|\\d{2,4}年\\d{1,2}月|\\d{1,2}月\\d{1,2}日\\\n",
    "|\\d{2,4}-\\d{1,2}-\\d{0,2}|\\d{2,4}-\\d{1,4}|\\d{4}|-\\d{3})\")"
   ]
  },
  {
   "cell_type": "markdown",
   "metadata": {},
   "source": [
    "## 读取待融合文件"
   ]
  },
  {
   "cell_type": "code",
   "execution_count": 27,
   "metadata": {},
   "outputs": [],
   "source": [
    "result = open(\"result_ss.txt\",\"rb\").read().decode(\"utf8\").split(\"\\r\\n\")\n",
    "# 12 16"
   ]
  },
  {
   "cell_type": "code",
   "execution_count": 28,
   "metadata": {},
   "outputs": [],
   "source": [
    "question = open(\"task4coqa_test.questions\",\"rb\").read().decode(\"utf8\").split(\"\\r\\n\")"
   ]
  },
  {
   "cell_type": "code",
   "execution_count": 29,
   "metadata": {},
   "outputs": [],
   "source": [
    "#result_2 = open(\"result_9.txt\",\"rb\").read().decode(\"utf8\").split(\"\\n\")\n",
    "result_2 = open(\"result.test.txt\",\"rb\").read().decode(\"utf8\").split(\"\\n\")"
   ]
  },
  {
   "cell_type": "code",
   "execution_count": 30,
   "metadata": {},
   "outputs": [],
   "source": [
    "result_3 = open(\"result_new.txt\",\"rb\").read().decode(\"utf8\").split(\"\\n\")"
   ]
  },
  {
   "cell_type": "code",
   "execution_count": 31,
   "metadata": {},
   "outputs": [],
   "source": [
    "path_txt = open(\"path.test.txt\",\"rb\").read().decode(\"utf8\").split(\"\\n\")"
   ]
  },
  {
   "cell_type": "code",
   "execution_count": 32,
   "metadata": {},
   "outputs": [],
   "source": [
    "re_submit = result_2"
   ]
  },
  {
   "cell_type": "markdown",
   "metadata": {},
   "source": [
    "## 读取感知机中间结果"
   ]
  },
  {
   "cell_type": "code",
   "execution_count": 33,
   "metadata": {},
   "outputs": [],
   "source": [
    "with open(\"total_test_feature_07_20_13_11.bin\",\"rb\") as f: \n",
    "    total_test_feature = pickle.load(f)"
   ]
  },
  {
   "cell_type": "code",
   "execution_count": 34,
   "metadata": {},
   "outputs": [],
   "source": [
    "with open(\"nnn_07_20_10_06.bin\",\"rb\") as f: \n",
    "    nnn = pickle.load(f)"
   ]
  },
  {
   "cell_type": "markdown",
   "metadata": {},
   "source": [
    "## 开始融合"
   ]
  },
  {
   "cell_type": "code",
   "execution_count": 33,
   "metadata": {
    "scrolled": false
   },
   "outputs": [],
   "source": [
    "i = 0\n",
    "for que,a1,a2,a4 in zip(question,result,result_2,result_3):\n",
    "    \n",
    "    if len(set(a1.split(\"\\t\")).intersection(set(a2.split(\"\\t\")))) == 0 :\n",
    "        tag = find_ans_type(que)\n",
    "        if not tag:\n",
    "            tag = \"<PAD>\"\n",
    "        q_index = i\n",
    "        a1_tt = att_type(a1,tag)\n",
    "        a2_tt = att_type(a2,tag)\n",
    "        a4_tt = att_type(a4,tag)\n",
    "        \n",
    "        index = nnn.argmax(axis = 1)[i]\n",
    "        other = total_test_feature[i][1][abs(index-1)+1]\n",
    "        a3 = \"\\t\".join(other[0])\n",
    "        other_tt = att_type(a3,tag)\n",
    "        if q_index == 92:\n",
    "            print(a1,a2,a3)\n",
    "        # 有且仅有一个命中了类型  \n",
    "        if abs(a1_tt - a2_tt)!= 0:\n",
    "            if a1_tt == 1:\n",
    "                re_submit[i] = a1.split(\"\\t\")\n",
    "            else:\n",
    "                re_submit[i] = a2.split(\"\\t\")\n",
    "                \n",
    "        # 如果两个都命中类型 或 都没有命中类型      \n",
    "        else:\n",
    "            # 投票决定\n",
    "            if a1_tt == 0 and other_tt == 1:\n",
    "                re_submit[i] = a3.split(\"\\t\")\n",
    "            elif set(a3) == set(a1) or set(a4) == set(a1) and a1!= [\"\"]:\n",
    "                re_submit[i] = a1.split(\"\\t\")\n",
    "            elif set(a3) == set(a2) or set(a2) == set(a4) and a2!= [\"\"]:\n",
    "                re_submit[i] = a2.split(\"\\t\")\n",
    "            elif set(a3) == set(a4) and a3!= [\"\"]:\n",
    "                re_submit[i] = a3.split(\"\\t\")\n",
    "            elif a1_tt == 0 and a4_tt == 1:\n",
    "                re_submit[i] = a4.split(\"\\t\")\n",
    "                \n",
    "            else: # 理论上我们要比较path了,这里将使用新版本的path\n",
    "                if a2:\n",
    "                    re_submit[i] = a2.split(\"\\t\")\n",
    "                else:\n",
    "                    re_submit[i] = a1.split(\"\\t\")\n",
    "                one_path = set(question[q_index]) - set(str(total_test_feature[q_index][1][1])) - set(\"1234567890？q:：什么的是全\")\n",
    "                two_path = set(question[q_index]) - set(str(total_test_feature[q_index][1][2]))  - set(\"1234567890？q:：什么的是全\")\n",
    "                new_path = set(question[q_index]) - set(path_txt[q_index]) - set(\"1234567890？q:：什么的是全\")\n",
    "                if i== 117:\n",
    "                    print(len(a1),len(a2),len(a3))\n",
    "                    print(index)\n",
    "                    print(a1,a2,a3)\n",
    "                    print(one_path)\n",
    "                if index == 0:\n",
    "                    bb = np.array(list(map(len,[one_path,new_path])))\n",
    "                else:\n",
    "                    # 这里本来是one_path\n",
    "                    bb = np.array(list(map(len,[two_path,new_path])))\n",
    "                if bb.max()-bb.min()>=4 or bb.max()==0:\n",
    "                    if bb[0] <= bb[1]:\n",
    "                        re_submit[i] = a1.split(\"\\t\")\n",
    "                    else:\n",
    "                        re_submit[i] = a4.split(\"\\t\")\n",
    "                    #print(\"-\"*130)\n",
    "                    #print(i,que)\n",
    "                \n",
    "        \n",
    "        # 强制类型修正\n",
    "        \n",
    "        # 长度型答案\n",
    "        for row in len_hint.split(\" \"):\n",
    "            if row in que:\n",
    "                bb = np.array(list(map(lambda x: len(len_pattern.findall(x)),[a1,a2,a3])))\n",
    "                re_submit[i] = [[a1,a2,a3][int(bb.argmax())]]\n",
    "                #print(\"len\",re_submit[i])\n",
    "        # 数字答案\n",
    "        for row in num_hint.split(\" \"):\n",
    "            if row in que:\n",
    "                bb = np.array(list(map(lambda x: len(len_pattern.findall(x)),[a1,a2,a3,a4])))\n",
    "                if sum(bb >0) == 1:\n",
    "                    re_submit[i] = [[a1,a2,a3,a4][int(bb.argmax())]]\n",
    "        # 网站型答案\n",
    "        for row in site_hint.split(\" \"):\n",
    "            if row in que:\n",
    "                #print(\"+\"*130)\n",
    "                #print(\"len\",que)\n",
    "                bb = np.array(list(map(lambda x: len(site_pattern.findall(x)),[a1,a2,a3])))\n",
    "                re_submit[i] = [[a1,a2,a3][int(bb.argmax())]]\n",
    "        # 地址型问题        \n",
    "        if \"地址\" in que:\n",
    "            re_submit[i] = a4.split(\"\\t\")\n",
    "        # 时间型答案\n",
    "        if re_submit[i] == [''] or \"\".join(re_submit[i]) in que:\n",
    "            #print(i,que)\n",
    "            re_submit[i] = a1.split(\"\\t\")\n",
    "            #print(\"change\",a1)\n",
    "    else:\n",
    "        re_submit[i] = a2.split(\"\\t\")\n",
    "    i+=1"
   ]
  },
  {
   "cell_type": "code",
   "execution_count": 34,
   "metadata": {},
   "outputs": [],
   "source": [
    "with open(\"result.txt\",\"wb\") as f:\n",
    "    for line in re_submit:\n",
    "        #print(line)\n",
    "        line = \"\\t\".join(line) + \"\\r\\n\"\n",
    "        f.write(line.encode(\"utf8\"))"
   ]
  }
 ],
 "metadata": {
  "kernelspec": {
   "display_name": "Python 3",
   "language": "python",
   "name": "python3"
  },
  "language_info": {
   "codemirror_mode": {
    "name": "ipython",
    "version": 3
   },
   "file_extension": ".py",
   "mimetype": "text/x-python",
   "name": "python",
   "nbconvert_exporter": "python",
   "pygments_lexer": "ipython3",
   "version": "3.6.4"
  },
  "toc": {
   "base_numbering": 1,
   "nav_menu": {},
   "number_sections": true,
   "sideBar": true,
   "skip_h1_title": false,
   "title_cell": "Table of Contents",
   "title_sidebar": "Contents",
   "toc_cell": false,
   "toc_position": {
    "height": "calc(100% - 180px)",
    "left": "10px",
    "top": "150px",
    "width": "339px"
   },
   "toc_section_display": true,
   "toc_window_display": true
  }
 },
 "nbformat": 4,
 "nbformat_minor": 2
}
